{
 "cells": [
  {
   "cell_type": "code",
   "execution_count": 26,
   "id": "4dbf46c6",
   "metadata": {},
   "outputs": [],
   "source": [
    "import numpy as np\n",
    "from sympy import symbols, Eq, solve"
   ]
  },
  {
   "cell_type": "code",
   "execution_count": 27,
   "id": "becee47e",
   "metadata": {},
   "outputs": [],
   "source": [
    "c = (2,2)\n",
    "p1 = (6,4)\n",
    "p2 = (-8,3)"
   ]
  },
  {
   "cell_type": "code",
   "execution_count": 28,
   "id": "5c99b4e0",
   "metadata": {},
   "outputs": [],
   "source": [
    "x, y = symbols('x y')"
   ]
  },
  {
   "cell_type": "code",
   "execution_count": 33,
   "id": "9444de39",
   "metadata": {},
   "outputs": [],
   "source": [
    "eq1 = Eq(((p1[0]-c[0])**2)*x + ((p1[1]-c[1])**2)*y - 1)\n",
    "eq2 = Eq(((p2[0]-c[0])**2)*x + ((p2[1]-c[1])**2)*y - 1)"
   ]
  },
  {
   "cell_type": "code",
   "execution_count": 34,
   "id": "d8a2ea81",
   "metadata": {},
   "outputs": [
    {
     "data": {
      "text/plain": [
       "{x: 1/128, y: 7/32}"
      ]
     },
     "execution_count": 34,
     "metadata": {},
     "output_type": "execute_result"
    }
   ],
   "source": [
    "ans = solve((eq1, eq2), (x, y))\n",
    "ans"
   ]
  },
  {
   "cell_type": "code",
   "execution_count": 31,
   "id": "d248e53b",
   "metadata": {},
   "outputs": [],
   "source": [
    "r1 = (1/float(r1))**(0.5)\n",
    "r2 = (1/float(r2))**(0.5)"
   ]
  },
  {
   "cell_type": "code",
   "execution_count": 25,
   "id": "70cff29d",
   "metadata": {},
   "outputs": [
    {
     "data": {
      "text/plain": [
       "(11.313708498984761, 2.138089935299395)"
      ]
     },
     "execution_count": 25,
     "metadata": {},
     "output_type": "execute_result"
    }
   ],
   "source": [
    "r1, r2"
   ]
  },
  {
   "cell_type": "code",
   "execution_count": null,
   "id": "49e07689",
   "metadata": {},
   "outputs": [],
   "source": []
  },
  {
   "cell_type": "code",
   "execution_count": null,
   "id": "e2cdd011",
   "metadata": {},
   "outputs": [],
   "source": []
  }
 ],
 "metadata": {
  "kernelspec": {
   "display_name": "Python 3 (ipykernel)",
   "language": "python",
   "name": "python3"
  },
  "language_info": {
   "codemirror_mode": {
    "name": "ipython",
    "version": 3
   },
   "file_extension": ".py",
   "mimetype": "text/x-python",
   "name": "python",
   "nbconvert_exporter": "python",
   "pygments_lexer": "ipython3",
   "version": "3.9.7"
  }
 },
 "nbformat": 4,
 "nbformat_minor": 5
}
