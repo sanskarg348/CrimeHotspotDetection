{
 "cells": [
  {
   "cell_type": "markdown",
   "id": "3ed1aabd",
   "metadata": {},
   "source": [
    "## Imports"
   ]
  },
  {
   "cell_type": "code",
   "execution_count": 12,
   "id": "01f5d35c",
   "metadata": {},
   "outputs": [],
   "source": [
    "import pandas as pd\n",
    "import ast\n",
    "import math\n",
    "import math\n",
    "import numpy as np\n",
    "from math import pi\n",
    "from bounding import MinimumBoundingBox\n",
    "from sympy import symbols, Eq, solve"
   ]
  },
  {
   "cell_type": "code",
   "execution_count": 2,
   "id": "76107765",
   "metadata": {},
   "outputs": [],
   "source": [
    "data = pd.read_csv('Crimes_-_2018.csv')"
   ]
  },
  {
   "cell_type": "code",
   "execution_count": 3,
   "id": "eb3c7bea",
   "metadata": {},
   "outputs": [],
   "source": [
    "filtered_data = data[['Primary Type', 'Location']].dropna()"
   ]
  },
  {
   "cell_type": "code",
   "execution_count": 4,
   "id": "775428f8",
   "metadata": {},
   "outputs": [],
   "source": [
    "filtered_data['row_num'] = [i for i in range(1, len(filtered_data) + 1)]"
   ]
  },
  {
   "cell_type": "code",
   "execution_count": 5,
   "id": "50746aeb",
   "metadata": {},
   "outputs": [
    {
     "data": {
      "text/html": [
       "<div>\n",
       "<style scoped>\n",
       "    .dataframe tbody tr th:only-of-type {\n",
       "        vertical-align: middle;\n",
       "    }\n",
       "\n",
       "    .dataframe tbody tr th {\n",
       "        vertical-align: top;\n",
       "    }\n",
       "\n",
       "    .dataframe thead th {\n",
       "        text-align: right;\n",
       "    }\n",
       "</style>\n",
       "<table border=\"1\" class=\"dataframe\">\n",
       "  <thead>\n",
       "    <tr style=\"text-align: right;\">\n",
       "      <th></th>\n",
       "      <th>Primary Type</th>\n",
       "      <th>Location</th>\n",
       "      <th>row_num</th>\n",
       "    </tr>\n",
       "  </thead>\n",
       "  <tbody>\n",
       "    <tr>\n",
       "      <th>152</th>\n",
       "      <td>OTHER OFFENSE</td>\n",
       "      <td>(41.896063478, -87.667902742)</td>\n",
       "      <td>1</td>\n",
       "    </tr>\n",
       "    <tr>\n",
       "      <th>154</th>\n",
       "      <td>ASSAULT</td>\n",
       "      <td>(41.769399886, -87.690705813)</td>\n",
       "      <td>2</td>\n",
       "    </tr>\n",
       "    <tr>\n",
       "      <th>155</th>\n",
       "      <td>BATTERY</td>\n",
       "      <td>(41.838706452, -87.72595418)</td>\n",
       "      <td>3</td>\n",
       "    </tr>\n",
       "    <tr>\n",
       "      <th>156</th>\n",
       "      <td>OFFENSE INVOLVING CHILDREN</td>\n",
       "      <td>(41.896551396, -87.773787663)</td>\n",
       "      <td>4</td>\n",
       "    </tr>\n",
       "    <tr>\n",
       "      <th>425</th>\n",
       "      <td>BATTERY</td>\n",
       "      <td>(42.004384227, -87.674295522)</td>\n",
       "      <td>5</td>\n",
       "    </tr>\n",
       "    <tr>\n",
       "      <th>...</th>\n",
       "      <td>...</td>\n",
       "      <td>...</td>\n",
       "      <td>...</td>\n",
       "    </tr>\n",
       "    <tr>\n",
       "      <th>268672</th>\n",
       "      <td>ASSAULT</td>\n",
       "      <td>(41.897598907, -87.769139392)</td>\n",
       "      <td>263467</td>\n",
       "    </tr>\n",
       "    <tr>\n",
       "      <th>268673</th>\n",
       "      <td>ROBBERY</td>\n",
       "      <td>(41.732730806, -87.585114125)</td>\n",
       "      <td>263468</td>\n",
       "    </tr>\n",
       "    <tr>\n",
       "      <th>268674</th>\n",
       "      <td>ROBBERY</td>\n",
       "      <td>(41.734234372, -87.589291682)</td>\n",
       "      <td>263469</td>\n",
       "    </tr>\n",
       "    <tr>\n",
       "      <th>268681</th>\n",
       "      <td>OFFENSE INVOLVING CHILDREN</td>\n",
       "      <td>(41.732935859, -87.608977015)</td>\n",
       "      <td>263470</td>\n",
       "    </tr>\n",
       "    <tr>\n",
       "      <th>268684</th>\n",
       "      <td>BATTERY</td>\n",
       "      <td>(41.865650668, -87.721499289)</td>\n",
       "      <td>263471</td>\n",
       "    </tr>\n",
       "  </tbody>\n",
       "</table>\n",
       "<p>263471 rows × 3 columns</p>\n",
       "</div>"
      ],
      "text/plain": [
       "                      Primary Type                       Location  row_num\n",
       "152                  OTHER OFFENSE  (41.896063478, -87.667902742)        1\n",
       "154                        ASSAULT  (41.769399886, -87.690705813)        2\n",
       "155                        BATTERY   (41.838706452, -87.72595418)        3\n",
       "156     OFFENSE INVOLVING CHILDREN  (41.896551396, -87.773787663)        4\n",
       "425                        BATTERY  (42.004384227, -87.674295522)        5\n",
       "...                            ...                            ...      ...\n",
       "268672                     ASSAULT  (41.897598907, -87.769139392)   263467\n",
       "268673                     ROBBERY  (41.732730806, -87.585114125)   263468\n",
       "268674                     ROBBERY  (41.734234372, -87.589291682)   263469\n",
       "268681  OFFENSE INVOLVING CHILDREN  (41.732935859, -87.608977015)   263470\n",
       "268684                     BATTERY  (41.865650668, -87.721499289)   263471\n",
       "\n",
       "[263471 rows x 3 columns]"
      ]
     },
     "execution_count": 5,
     "metadata": {},
     "output_type": "execute_result"
    }
   ],
   "source": [
    "filtered_data"
   ]
  },
  {
   "cell_type": "code",
   "execution_count": 6,
   "id": "e239ca74",
   "metadata": {},
   "outputs": [],
   "source": [
    "robery_data = filtered_data[filtered_data['Primary Type'] == 'ROBBERY']"
   ]
  },
  {
   "cell_type": "code",
   "execution_count": 44,
   "id": "65aaf781",
   "metadata": {},
   "outputs": [],
   "source": [
    "def get_elipse_radii(center, p1, p2):\n",
    "    x, y = symbols('x y')\n",
    "    eq1 = Eq(((p1[0] - center[0]) ** 2)*x + ((p1[1] - center[1]) ** 2)*y - 1, 0)\n",
    "    eq2 = Eq(((p2[0] - center[0]) ** 2)*x + ((p2[1] - center[1]) ** 2)*y - 1, 0)\n",
    "    ans = solve((eq1, eq2), (x, y))\n",
    "    print(ans)\n",
    "    r1, r2 = ans[x], ans[y]\n",
    "    print(float(r1), float(r2))\n",
    "    r1, r2 = (1 / float(r1)) ** (0.5), (1 / float(r2)) ** (0.5)\n",
    "    \n",
    "    return r1, r2"
   ]
  },
  {
   "cell_type": "code",
   "execution_count": 45,
   "id": "6174599f",
   "metadata": {},
   "outputs": [],
   "source": [
    "def step_1(data_array):\n",
    "    possible_elipses = set()\n",
    "    for i in data_array:\n",
    "        for j in data_array:\n",
    "            for k in data_array:\n",
    "                if i[2] != j[2] and j[2] != k[2] and i[2] != k[2]:\n",
    "                    loc = ast.literal_eval(i[1])\n",
    "                    radii = get_elipse_radii(loc, ast.literal_eval(j[1]), ast.literal_eval(k[1]))\n",
    "                    possible_elipses.add((loc[0],loc[1],radii[0], radii[1]))\n",
    "            \n",
    "    return possible_elipses"
   ]
  },
  {
   "cell_type": "code",
   "execution_count": null,
   "id": "6c6ead6e",
   "metadata": {},
   "outputs": [],
   "source": [
    "def helper_function(h, k, x, y, a, b):\n",
    " \n",
    "    # checking the equation of\n",
    "    # ellipse with the given point\n",
    "    p = ((math.pow((x - h), 2) / math.pow(a, 2)) +\n",
    "         (math.pow((y - k), 2) / math.pow(b, 2)))\n",
    " \n",
    "    if p <= 1:\n",
    "        return True\n",
    "    \n",
    "def step_2(step_1_elipses, data_array,  monte_flag = False):\n",
    "    elipse_likelihood = {}\n",
    "    area_s = MinimumBoundingBox([ast.literal_eval(i[1]) for i in data_array]).area\n",
    "    for i in step_1_elipses:\n",
    "        B = 100*(pi*i[2]*i[3])/area_s\n",
    "        curr_c = 0\n",
    "        curr_i = 0\n",
    "        for j in data_array:\n",
    "            loc = ast.literal_eval(j[1])\n",
    "            if helper_function(i[0], i[1], loc[0], loc[1], i[2], i[3]):\n",
    "                curr_c += 1\n",
    "        if curr_c > B:\n",
    "            curr_i = 1\n",
    "        if curr_i == 0:\n",
    "            likelihood = 0\n",
    "        else:\n",
    "            likelihood = math.log(((curr_c/B)**curr_c)*(((100-curr_c)/(100-B))**(100-curr_c))*curr_i)\n",
    "        elipse_likelihood[i] = likelihood\n",
    "    final_elipses = {}\n",
    "    max_like = float('-inf')\n",
    "    max_like_elipse = None\n",
    "    for i,j in elipse_likelihood.items():\n",
    "        for a,b in elipse_likelihood.items():\n",
    "            x = helper_function(i,j,b,a)\n",
    "            if x != None and x[1] > MIN_LOG_LIKELIHOOD:\n",
    "                final_elipses[x[0]] = x[1]\n",
    "                if x[1] > max_like:\n",
    "                    max_like_elipse = x[0]\n",
    "    if monte_flag:\n",
    "        return max_like_elipse, max_like\n",
    "    fin = {'Elipse': [], 'Likelihood': []}\n",
    "    for i, j in final_elipses.items():\n",
    "        fin['Elipse'].append(i)\n",
    "        fin['Likelihood'].append(j)\n",
    "    pd.DataFrame(fin).to_csv('elipse_hood.csv')\n",
    "    return final_elipses"
   ]
  },
  {
   "cell_type": "code",
   "execution_count": null,
   "id": "ee4d3401",
   "metadata": {},
   "outputs": [],
   "source": []
  }
 ],
 "metadata": {
  "kernelspec": {
   "display_name": "Python 3 (ipykernel)",
   "language": "python",
   "name": "python3"
  },
  "language_info": {
   "codemirror_mode": {
    "name": "ipython",
    "version": 3
   },
   "file_extension": ".py",
   "mimetype": "text/x-python",
   "name": "python",
   "nbconvert_exporter": "python",
   "pygments_lexer": "ipython3",
   "version": "3.9.7"
  }
 },
 "nbformat": 4,
 "nbformat_minor": 5
}
